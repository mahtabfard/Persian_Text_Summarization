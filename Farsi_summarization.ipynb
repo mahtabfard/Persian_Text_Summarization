{
 "cells": [
  {
   "cell_type": "code",
   "execution_count": 1,
   "id": "5baec677",
   "metadata": {},
   "outputs": [],
   "source": [
    "#Import needed libraries\n",
    "from hazm import *\n",
    "from collections import defaultdict\n",
    "import re"
   ]
  },
  {
   "cell_type": "code",
   "execution_count": 2,
   "id": "c7135041",
   "metadata": {},
   "outputs": [],
   "source": [
    "#Hazm tools\n",
    "normalizer = Normalizer()\n",
    "tokenizer = WordTokenizer()\n",
    "sentence_tokenizer = SentenceTokenizer()\n",
    "stemmer = Stemmer()\n",
    "stopwords_list = stopwords_list() "
   ]
  },
  {
   "cell_type": "code",
   "execution_count": 3,
   "id": "c1877a07",
   "metadata": {},
   "outputs": [],
   "source": [
    "#Frequency of the words\n",
    "def calculate_tf(text):\n",
    "    words = tokenizer.tokenize(text)\n",
    "    word_freq = defaultdict(int)\n",
    "    for word in words:\n",
    "        if word not in stopwords_list:  # Exclude stop words\n",
    "            word_freq[stemmer.stem(word)] += 1\n",
    "    return word_freq"
   ]
  },
  {
   "cell_type": "code",
   "execution_count": 4,
   "id": "eb765a1d",
   "metadata": {},
   "outputs": [],
   "source": [
    "#sentence ranking based off frequency\n",
    "def rank_sentences(text, word_freq):\n",
    "    sentences = sentence_tokenizer.tokenize(text)\n",
    "    sentence_ranks = {}\n",
    "    for sentence in sentences:\n",
    "        sentence_word_freq = calculate_tf(sentence)\n",
    "        rank = sum(word_freq[word] for word in sentence_word_freq)\n",
    "        sentence_ranks[sentence] = rank\n",
    "    return sentence_ranks"
   ]
  },
  {
   "cell_type": "code",
   "execution_count": 5,
   "id": "33329edc",
   "metadata": {},
   "outputs": [],
   "source": [
    "#Summarization\n",
    "def summarize_farsi_text(text, num_sentences=3):\n",
    "    text = normalizer.normalize(text)\n",
    "    word_freq = calculate_tf(text)\n",
    "    sentence_ranks = rank_sentences(text, word_freq)\n",
    "    top_sentences = sorted(sentence_ranks, key=sentence_ranks.get, reverse=True)[:num_sentences]\n",
    "    return \"\\n\".join(top_sentences)"
   ]
  },
  {
   "cell_type": "code",
   "execution_count": 9,
   "id": "08c5caab",
   "metadata": {},
   "outputs": [
    {
     "name": "stdout",
     "output_type": "stream",
     "text": [
      "  :لطفا متن فارسی مد نظر خود را وارد کنید\n",
      "\n",
      "ه تنها قمر طبیعی زمین است و همواره توجه بشر را به خود جلب کرده است. این جرم آسمانی زیبا باعث پدیده‌هایی مانند جزر و مد در زمین می‌شود. سطح ماه پوشیده از دهانه‌های برخوردی و کوه‌ها است و از نور خورشید منعکس شده می‌درخشد. انسان‌ها در سال ۱۹۶۹ برای اولین بار بر روی ماه قدم گذاشتند، که یکی از بزرگ‌ترین دستاوردهای علمی تاریخ به‌شمار می‌رود\n",
      "خلاصه متن: \n",
      "سطح ماه پوشیده از دهانه‌های برخوردی و کوه‌ها است و از نور خورشید منعکس‌شده می‌درخشد.\n",
      "انسان‌ها در سال ۱۹۶۹ برای اولین بار بر روی ماه قدم گذاشتند، که یکی از بزرگ‌ترین دستاوردهای علمی تاریخ به‌شمار می‌رود\n",
      "ه تنها قمر طبیعی زمین است و همواره توجه بشر را به خود جلب کرده است.\n"
     ]
    }
   ],
   "source": [
    "print(\"  :لطفا متن فارسی مد نظر خود را وارد کنید\")\n",
    "print(\"\")\n",
    "Farsi_text=input(\"\")\n",
    "\n",
    "#Get the text\n",
    "summary = summarize_farsi_text(Farsi_text, num_sentences=3)\n",
    "# Output summarized text\n",
    "print(\"خلاصه متن: \")\n",
    "print(summary)"
   ]
  },
  {
   "cell_type": "code",
   "execution_count": 15,
   "id": "4b6a2b94",
   "metadata": {},
   "outputs": [
    {
     "name": "stdout",
     "output_type": "stream",
     "text": [
      "  :لطفا متن فارسی مد نظر خود را وارد کنید\n",
      "\n",
      "رزش کردن یکی از بهترین راه‌ها برای حفظ سلامتی بدن و ذهن است. تمرینات منظم بدنی به بهبود گردش خون، تقویت عضلات و کاهش استرس کمک می‌کنند. همچنین، ورزش به تقویت سیستم ایمنی و افزایش انرژی روزانه کمک می‌کند. انجام ورزش‌های هوازی مانند دویدن و شنا، و تمرینات مقاومتی مانند وزنه‌برداری، برای حفظ تناسب اندام و سلامت قلب مفید هستند.  علاوه بر این، ورزش می‌تواند کیفیت خواب را بهبود بخشد و خلق‌و‌خو را بالا ببرد. ترکیب ورزش با یک رژیم غذایی سالم، نتایج بهتری در رسیدن به اهداف سلامتی و تناسب اندام به ارمغان می‌آورد. ورزش‌های گروهی یا فردی هر دو مزایای خود را دارند و انتخاب نوع ورزش بستگی به علاقه و نیاز فردی دارد. نکته مهم در ورزش، پیوستگی و تمرین منظم است که به تدریج باع\n",
      "\n",
      "خلاصه متن: \n",
      "\n",
      "انجام ورزش‌های هوازی مانند دویدن و شنا، و تمرینات مقاومتی مانند وزنه‌برداری، برای حفظ تناسب اندام و سلامت قلب مفید هستند.\n",
      "ترکیب ورزش با یک رژیم غذایی سالم، نتایج بهتری در رسیدن به اهداف سلامتی و تناسب اندام به ارمغان می‌آورد.\n",
      "تمرینات منظم بدنی به بهبود گردش خون، تقویت عضلات و کاهش استرس کمک می‌کنند.\n"
     ]
    }
   ],
   "source": [
    "print(\"  :لطفا متن فارسی مد نظر خود را وارد کنید\")\n",
    "print(\"\")\n",
    "Farsi_text=input(\"\")\n",
    "\n",
    "#Get the text\n",
    "summary = summarize_farsi_text(Farsi_text, num_sentences=3)\n",
    "# Output summarized text\n",
    "print(\"\")\n",
    "print(\"خلاصه متن: \")\n",
    "print(\"\")\n",
    "print(summary)"
   ]
  }
 ],
 "metadata": {
  "kernelspec": {
   "display_name": "Python 3 (ipykernel)",
   "language": "python",
   "name": "python3"
  },
  "language_info": {
   "codemirror_mode": {
    "name": "ipython",
    "version": 3
   },
   "file_extension": ".py",
   "mimetype": "text/x-python",
   "name": "python",
   "nbconvert_exporter": "python",
   "pygments_lexer": "ipython3",
   "version": "3.11.5"
  }
 },
 "nbformat": 4,
 "nbformat_minor": 5
}
